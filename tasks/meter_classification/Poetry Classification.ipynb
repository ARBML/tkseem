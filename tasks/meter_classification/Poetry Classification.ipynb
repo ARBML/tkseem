{
 "cells": [
  {
   "cell_type": "markdown",
   "metadata": {},
   "source": [
    "## Poetry Classification"
   ]
  },
  {
   "cell_type": "code",
   "execution_count": null,
   "metadata": {},
   "outputs": [],
   "source": [
    "!pip install tkseem"
   ]
  },
  {
   "cell_type": "code",
   "execution_count": null,
   "metadata": {},
   "outputs": [],
   "source": [
    "!wget https://raw.githubusercontent.com/ARBML/tkseem/master/tasks/meter_classification/meters/data.txt\n",
    "!wget https://raw.githubusercontent.com/ARBML/tkseem/master/tasks/meter_classification/meters/labels.txt"
   ]
  },
  {
   "cell_type": "markdown",
   "metadata": {},
   "source": [
    "### Imports"
   ]
  },
  {
   "cell_type": "code",
   "execution_count": 1,
   "metadata": {},
   "outputs": [],
   "source": [
    "import tensorflow as tf\n",
    "import tkseem as tk\n",
    "import numpy as np\n",
    "from tensorflow.keras.layers import GRU, Embedding, Dense, Input, Dropout, Bidirectional, BatchNormalization, Flatten, Reshape\n",
    "from tensorflow.keras.models import Sequential\n",
    "from sklearn.model_selection import train_test_split"
   ]
  },
  {
   "cell_type": "markdown",
   "metadata": {},
   "source": [
    "### Tokenization"
   ]
  },
  {
   "cell_type": "code",
   "execution_count": 2,
   "metadata": {},
   "outputs": [
    {
     "name": "stdout",
     "output_type": "stream",
     "text": [
      "Reading the data ...\n",
      "Cleaning the data ...\n",
      "Training CharacterTokenizer ...\n"
     ]
    }
   ],
   "source": [
    "tokenizer = tk.CharacterTokenizer(clean = True)\n",
    "tokenizer.process_data('data.txt')\n",
    "tokenizer.train()"
   ]
  },
  {
   "cell_type": "markdown",
   "metadata": {},
   "source": [
    "### Data"
   ]
  },
  {
   "cell_type": "code",
   "execution_count": 3,
   "metadata": {},
   "outputs": [],
   "source": [
    "sentences = open('data/raw/train.txt', 'r').read().splitlines()\n",
    "labels = open('labels.txt', 'r').read().splitlines()\n",
    "\n",
    "max_length = 100 \n",
    "\n",
    "X = tokenizer.encode_sentences(sentences, max_length = max_length)\n",
    "y = np.array([int(lbl) for lbl in labels])\n",
    "\n",
    "X_train, X_test, y_train, y_test = train_test_split(X, y, test_size=0.33, random_state=42)"
   ]
  },
  {
   "cell_type": "code",
   "execution_count": 4,
   "metadata": {},
   "outputs": [
    {
     "data": {
      "text/plain": [
       "'يا ضيف طيف ما هداه لمضجعي # إلا لهيب في الحشى يتوقد'"
      ]
     },
     "execution_count": 4,
     "metadata": {},
     "output_type": "execute_result"
    }
   ],
   "source": [
    "sentences[0]"
   ]
  },
  {
   "cell_type": "markdown",
   "metadata": {},
   "source": [
    "### Model"
   ]
  },
  {
   "cell_type": "code",
   "execution_count": 9,
   "metadata": {},
   "outputs": [],
   "source": [
    "model = Sequential()\n",
    "model.add(Input((100,)))\n",
    "model.add(Embedding(tokenizer.vocab_size, 256))\n",
    "model.add(Bidirectional(GRU(units = 256, return_sequences=True)))\n",
    "model.add(Bidirectional(GRU(units = 256, return_sequences=True)))\n",
    "model.add(Bidirectional(GRU(units = 256)))\n",
    "model.add(Dense(128, activation = 'relu'))\n",
    "model.add(Dropout(0.3))\n",
    "model.add(Dense(14, activation = 'softmax'))\n",
    "model.compile(optimizer = 'adam', loss = 'sparse_categorical_crossentropy', metrics = ['accuracy'])"
   ]
  },
  {
   "cell_type": "code",
   "execution_count": 10,
   "metadata": {},
   "outputs": [
    {
     "name": "stdout",
     "output_type": "stream",
     "text": [
      "Epoch 1/10\n",
      "111/111 [==============================] - 464s 4s/step - loss: 2.2710 - accuracy: 0.1868 - val_loss: 1.9023 - val_accuracy: 0.2929\n",
      "Epoch 2/10\n",
      "111/111 [==============================] - 465s 4s/step - loss: 1.8318 - accuracy: 0.3188 - val_loss: 1.6296 - val_accuracy: 0.3949\n",
      "Epoch 3/10\n",
      "111/111 [==============================] - 453s 4s/step - loss: 1.5879 - accuracy: 0.4187 - val_loss: 1.4511 - val_accuracy: 0.4842\n",
      "Epoch 4/10\n",
      "111/111 [==============================] - 400s 4s/step - loss: 1.3652 - accuracy: 0.5193 - val_loss: 1.2189 - val_accuracy: 0.5754\n",
      "Epoch 5/10\n",
      "111/111 [==============================] - 393s 4s/step - loss: 1.0705 - accuracy: 0.6416 - val_loss: 0.9010 - val_accuracy: 0.6979\n",
      "Epoch 6/10\n",
      "111/111 [==============================] - 393s 4s/step - loss: 0.7646 - accuracy: 0.7536 - val_loss: 0.6613 - val_accuracy: 0.7840\n",
      "Epoch 7/10\n",
      "111/111 [==============================] - 389s 4s/step - loss: 0.5865 - accuracy: 0.8191 - val_loss: 0.5526 - val_accuracy: 0.8325\n",
      "Epoch 8/10\n",
      "111/111 [==============================] - 391s 4s/step - loss: 0.4667 - accuracy: 0.8586 - val_loss: 0.5148 - val_accuracy: 0.8420\n",
      "Epoch 9/10\n",
      "111/111 [==============================] - 396s 4s/step - loss: 0.3812 - accuracy: 0.8873 - val_loss: 0.4854 - val_accuracy: 0.8528\n",
      "Epoch 10/10\n",
      "111/111 [==============================] - 426s 4s/step - loss: 0.3139 - accuracy: 0.9091 - val_loss: 0.4280 - val_accuracy: 0.8749\n"
     ]
    },
    {
     "data": {
      "text/plain": [
       "<tensorflow.python.keras.callbacks.History at 0x7f8d88ed4910>"
      ]
     },
     "execution_count": 10,
     "metadata": {},
     "output_type": "execute_result"
    }
   ],
   "source": [
    "model.fit(X_train, y_train, validation_split = 0.1, epochs = 10, batch_size= 256, shuffle = True)"
   ]
  },
  {
   "cell_type": "markdown",
   "metadata": {},
   "source": [
    "### Test"
   ]
  },
  {
   "cell_type": "code",
   "execution_count": 11,
   "metadata": {},
   "outputs": [],
   "source": [
    "label2name = ['السريع', 'الكامل', 'المتقارب', 'المتدارك', 'المنسرح', 'المديد', \n",
    "              'المجتث', 'الرمل', 'البسيط', 'الخفيف', 'الطويل', 'الوافر', 'الهزج', 'الرجز']"
   ]
  },
  {
   "cell_type": "code",
   "execution_count": 12,
   "metadata": {},
   "outputs": [],
   "source": [
    "def classify(sentence):\n",
    "    sequence = tokenizer.encode_sentences([sentence], max_length = max_length)\n",
    "    pred = model.predict(sequence)[0]\n",
    "    print(label2name[np.argmax(pred, 0).astype('int')], np.max(pred))"
   ]
  },
  {
   "cell_type": "code",
   "execution_count": 13,
   "metadata": {},
   "outputs": [
    {
     "name": "stdout",
     "output_type": "stream",
     "text": [
      "الرمل 0.99949336\n",
      "الكامل 0.9249198\n",
      "الكامل 0.9218475\n",
      "الطويل 0.9974923\n",
      "المجتث 0.6107578\n",
      "المديد 0.9062244\n",
      "الهزج 0.9060462\n",
      "السريع 0.832686\n",
      "المتدارك 0.6292933\n",
      "المتدارك 0.60360384\n"
     ]
    }
   ],
   "source": [
    "classify(\"ما تردون على هذا المحب # دائبا يشكو إليكم في الكتب\")\n",
    "classify(\"ولد الهدى فالكائنات ضياء # وفم الزمان تبسم وسناء\")\n",
    "classify(\" لك يا منازل في القلوب منازل # أقفرت أنت وهن منك أواهل\")\n",
    "classify(\"ومن لم يمت بالسيف مات بغيره # تعددت الأسباب والموت واحد\")\n",
    "classify(\"أنا النبي لا كذب # أنا ابن عبد المطلب\")\n",
    "classify(\"هذه دراهم اقفرت # أم ربور محتها الدهور\")\n",
    "classify(\"هزجنا في بواديكم # فأجزلتم عطايانا\")\n",
    "classify(\"بحر سريع ماله ساحل # مستفعلن مستفعلن فاعلن\")\n",
    "classify(\"مَا مَضَى فَاتَ وَالْمُؤَمَّلُ غَيْبٌ # وَلَكَ السَّاعَةُ الَّتِيْ أَنْتَ فِيْهَا\")\n",
    "classify(\"يا ليلُ الصبّ متى غدهُ # أقيامُ الساعة موعدهُ\")"
   ]
  }
 ],
 "metadata": {
  "kernelspec": {
   "display_name": "Python 3",
   "language": "python",
   "name": "python3"
  },
  "language_info": {
   "codemirror_mode": {
    "name": "ipython",
    "version": 3
   },
   "file_extension": ".py",
   "mimetype": "text/x-python",
   "name": "python",
   "nbconvert_exporter": "python",
   "pygments_lexer": "ipython3",
   "version": "3.8.2"
  }
 },
 "nbformat": 4,
 "nbformat_minor": 4
}
