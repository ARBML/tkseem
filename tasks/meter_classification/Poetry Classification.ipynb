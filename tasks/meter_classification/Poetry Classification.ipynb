{
 "cells": [
  {
   "cell_type": "markdown",
   "metadata": {},
   "source": [
    "## Poetry Classification"
   ]
  },
  {
   "cell_type": "markdown",
   "metadata": {},
   "source": [
    "### Imports"
   ]
  },
  {
   "cell_type": "code",
   "execution_count": 1,
   "metadata": {},
   "outputs": [],
   "source": [
    "import tensorflow as tf\n",
    "import tokenizers as tk\n",
    "import numpy as np\n",
    "from tensorflow.keras.layers import GRU, Embedding, Dense, Input, Dropout, Bidirectional, BatchNormalization, Flatten, Reshape\n",
    "from tensorflow.keras.models import Sequential\n",
    "from sklearn.model_selection import train_test_split"
   ]
  },
  {
   "cell_type": "markdown",
   "metadata": {},
   "source": [
    "### Tokenization"
   ]
  },
  {
   "cell_type": "code",
   "execution_count": 2,
   "metadata": {},
   "outputs": [
    {
     "name": "stdout",
     "output_type": "stream",
     "text": [
      "Reading the data ...\n",
      "Cleaning the data ...\n",
      "Splitting the data ...\n",
      "Training CharacterTokenizer ...\n"
     ]
    }
   ],
   "source": [
    "tokenizer = tk.CharacterTokenizer(clean = True)\n",
    "tokenizer.process_data('meters/data.txt')\n",
    "tokenizer.train()"
   ]
  },
  {
   "cell_type": "markdown",
   "metadata": {},
   "source": [
    "### Data"
   ]
  },
  {
   "cell_type": "code",
   "execution_count": 3,
   "metadata": {},
   "outputs": [],
   "source": [
    "sentences = open('data/raw/train.txt', 'r').read().splitlines()\n",
    "labels = open('meters/labels.txt', 'r').read().splitlines()\n",
    "\n",
    "max_length = 100 \n",
    "\n",
    "X = tokenizer.encode_sentences(sentences, max_length = max_length)\n",
    "y = np.array([int(lbl) for lbl in labels])\n",
    "\n",
    "X_train, X_test, y_train, y_test = train_test_split(X, y, test_size=0.33, random_state=42)"
   ]
  },
  {
   "cell_type": "code",
   "execution_count": 4,
   "metadata": {},
   "outputs": [
    {
     "data": {
      "text/plain": [
       "'يا ضيف طيف ما هداه لمضجعي # إلا لهيب في الحشى يتوقد'"
      ]
     },
     "execution_count": 4,
     "metadata": {},
     "output_type": "execute_result"
    }
   ],
   "source": [
    "sentences[0]"
   ]
  },
  {
   "cell_type": "markdown",
   "metadata": {},
   "source": [
    "### Model"
   ]
  },
  {
   "cell_type": "code",
   "execution_count": 5,
   "metadata": {},
   "outputs": [],
   "source": [
    "model = Sequential()\n",
    "model.add(Input((100,)))\n",
    "model.add(Embedding(tokenizer.vocab_size, 256))\n",
    "model.add(Bidirectional(GRU(units = 256, return_sequences=True)))\n",
    "model.add(Bidirectional(GRU(units = 256, return_sequences=True)))\n",
    "model.add(Bidirectional(GRU(units = 256)))\n",
    "model.add(Dense(128, activation = 'relu'))\n",
    "model.add(Dropout(0.3))\n",
    "model.add(Dense(14, activation = 'softmax'))\n",
    "model.compile(optimizer = 'adam', loss = 'sparse_categorical_crossentropy', metrics = ['accuracy'])"
   ]
  },
  {
   "cell_type": "code",
   "execution_count": 6,
   "metadata": {},
   "outputs": [
    {
     "name": "stdout",
     "output_type": "stream",
     "text": [
      "Epoch 1/10\n",
      "222/222 [==============================] - 410s 2s/step - loss: 2.1945 - accuracy: 0.2110 - val_loss: 1.8659 - val_accuracy: 0.3056\n",
      "Epoch 2/10\n",
      "222/222 [==============================] - 397s 2s/step - loss: 1.6794 - accuracy: 0.3894 - val_loss: 1.4048 - val_accuracy: 0.4934\n",
      "Epoch 3/10\n",
      "222/222 [==============================] - 393s 2s/step - loss: 1.1040 - accuracy: 0.6277 - val_loss: 0.8356 - val_accuracy: 0.7255\n",
      "Epoch 4/10\n",
      "222/222 [==============================] - 422s 2s/step - loss: 0.6844 - accuracy: 0.7844 - val_loss: 0.5612 - val_accuracy: 0.8255\n",
      "Epoch 5/10\n",
      "222/222 [==============================] - 433s 2s/step - loss: 0.5033 - accuracy: 0.8510 - val_loss: 0.5096 - val_accuracy: 0.8521\n",
      "Epoch 6/10\n",
      "222/222 [==============================] - 408s 2s/step - loss: 0.3962 - accuracy: 0.8850 - val_loss: 0.4341 - val_accuracy: 0.8686\n",
      "Epoch 7/10\n",
      "222/222 [==============================] - 368s 2s/step - loss: 0.3194 - accuracy: 0.9081 - val_loss: 0.3918 - val_accuracy: 0.8908\n",
      "Epoch 8/10\n",
      "222/222 [==============================] - 378s 2s/step - loss: 0.2633 - accuracy: 0.9247 - val_loss: 0.3940 - val_accuracy: 0.8882\n",
      "Epoch 9/10\n",
      "222/222 [==============================] - 375s 2s/step - loss: 0.2258 - accuracy: 0.9368 - val_loss: 0.3932 - val_accuracy: 0.8977\n",
      "Epoch 10/10\n",
      "222/222 [==============================] - 379s 2s/step - loss: 0.1979 - accuracy: 0.9438 - val_loss: 0.4124 - val_accuracy: 0.8923\n"
     ]
    },
    {
     "data": {
      "text/plain": [
       "<tensorflow.python.keras.callbacks.History at 0x7f1dc72935b0>"
      ]
     },
     "execution_count": 6,
     "metadata": {},
     "output_type": "execute_result"
    }
   ],
   "source": [
    "model.fit(X_train, y_train, validation_split = 0.1, epochs = 10, batch_size= 128, shuffle = True)"
   ]
  },
  {
   "cell_type": "markdown",
   "metadata": {},
   "source": [
    "### Test"
   ]
  },
  {
   "cell_type": "code",
   "execution_count": 7,
   "metadata": {},
   "outputs": [],
   "source": [
    "label2name = ['saree', 'kamel', 'mutakareb', 'mutadarak', 'munsareh', 'madeed', \n",
    "              'mujtath', 'ramal', 'baseet', 'khafeef', 'taweel', 'wafer', 'hazaj', 'rajaz']"
   ]
  },
  {
   "cell_type": "code",
   "execution_count": 8,
   "metadata": {},
   "outputs": [],
   "source": [
    "def classify(sentence):\n",
    "    sequence = tokenizer.encode_sentences([sentence], max_length = max_length)\n",
    "    pred = model.predict(sequence)[0]\n",
    "    print(label2name[np.argmax(pred, 0).astype('int')], np.max(pred))"
   ]
  },
  {
   "cell_type": "code",
   "execution_count": 9,
   "metadata": {},
   "outputs": [
    {
     "name": "stdout",
     "output_type": "stream",
     "text": [
      "ramal 0.99864715\n",
      "kamel 0.9625275\n",
      "kamel 0.99522\n"
     ]
    }
   ],
   "source": [
    "classify(\"ما تردون على هذا المحب # دائبا يشكو إليكم في الكتب\")\n",
    "classify(\"ولد الهدى فالكائنات ضياء # وفم الزمان تبسم وسناء\")\n",
    "classify(\" لك يا منازل في القلوب منازل # أقفرت أنت وهن منك أواهل\")"
   ]
  },
  {
   "cell_type": "code",
   "execution_count": 10,
   "metadata": {},
   "outputs": [
    {
     "name": "stdout",
     "output_type": "stream",
     "text": [
      "ramal 0.99864715\n",
      "kamel 0.9625275\n",
      "kamel 0.99522\n",
      "taweel 0.99869907\n",
      "munsareh 0.35370013\n",
      "madeed 0.51401275\n",
      "hazaj 0.98468786\n",
      "saree 0.9669881\n",
      "mutadarak 0.9865726\n",
      "mutadarak 0.99643195\n"
     ]
    }
   ],
   "source": [
    "classify(\"ما تردون على هذا المحب # دائبا يشكو إليكم في الكتب\")\n",
    "classify(\"ولد الهدى فالكائنات ضياء # وفم الزمان تبسم وسناء\")\n",
    "classify(\" لك يا منازل في القلوب منازل # أقفرت أنت وهن منك أواهل\")\n",
    "classify(\"ومن لم يمت بالسيف مات بغيره # تعددت الأسباب والموت واحد\")\n",
    "classify(\"أنا النبي لا كذب # أنا ابن عبد المطلب\")\n",
    "classify(\"هذه دراهم اقفرت # أم ربور محتها الدهور\")\n",
    "classify(\"هزجنا في بواديكم # فأجزلتم عطايانا\")\n",
    "classify(\"بحر سريع ماله ساحل # مستفعلن مستفعلن فاعلن\")\n",
    "classify(\"مَا مَضَى فَاتَ وَالْمُؤَمَّلُ غَيْبٌ # وَلَكَ السَّاعَةُ الَّتِيْ أَنْتَ فِيْهَا\")\n",
    "classify(\"يا ليلُ الصبّ متى غدهُ # أقيامُ الساعة موعدهُ\")"
   ]
  }
 ],
 "metadata": {
  "kernelspec": {
   "display_name": "Python 3",
   "language": "python",
   "name": "python3"
  },
  "language_info": {
   "codemirror_mode": {
    "name": "ipython",
    "version": 3
   },
   "file_extension": ".py",
   "mimetype": "text/x-python",
   "name": "python",
   "nbconvert_exporter": "python",
   "pygments_lexer": "ipython3",
   "version": "3.8.2"
  }
 },
 "nbformat": 4,
 "nbformat_minor": 4
}
