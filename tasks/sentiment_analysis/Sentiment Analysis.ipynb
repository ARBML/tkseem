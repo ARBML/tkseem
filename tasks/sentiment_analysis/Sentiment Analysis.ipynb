{
 "cells": [
  {
   "cell_type": "markdown",
   "metadata": {},
   "source": [
    "## Sentiment Analysis"
   ]
  },
  {
   "cell_type": "code",
   "execution_count": null,
   "metadata": {},
   "outputs": [],
   "source": [
    "!pip install tkseem"
   ]
  },
  {
   "cell_type": "code",
   "execution_count": null,
   "metadata": {},
   "outputs": [],
   "source": [
    "!wget https://raw.githubusercontent.com/ARBML/tkseem/master/tasks/sentiment_analysis/sentiment/data.txt\n",
    "!wget https://raw.githubusercontent.com/ARBML/tkseem/master/tasks/sentiment_analysis/sentiment/labels.txt"
   ]
  },
  {
   "cell_type": "markdown",
   "metadata": {},
   "source": [
    "### Imports"
   ]
  },
  {
   "cell_type": "code",
   "execution_count": 2,
   "metadata": {},
   "outputs": [],
   "source": [
    "import numpy as np\n",
    "import tkseem as tk\n",
    "from tensorflow.keras.models import Sequential\n",
    "from sklearn.model_selection import train_test_split\n",
    "from tensorflow.keras.layers import GRU, Embedding, Dense, Input, Dropout, Bidirectional"
   ]
  },
  {
   "cell_type": "markdown",
   "metadata": {},
   "source": [
    "### Tokenize"
   ]
  },
  {
   "cell_type": "code",
   "execution_count": 3,
   "metadata": {
    "scrolled": true
   },
   "outputs": [
    {
     "name": "stdout",
     "output_type": "stream",
     "text": [
      "Reading the data ...\n",
      "Training SentencePiece...\n"
     ]
    }
   ],
   "source": [
    "tokenizer = tk.SentencePieceTokenizer()\n",
    "tokenizer.process_data('data.txt')\n",
    "tokenizer.train()"
   ]
  },
  {
   "cell_type": "markdown",
   "metadata": {},
   "source": [
    "### Read Data"
   ]
  },
  {
   "cell_type": "code",
   "execution_count": 4,
   "metadata": {},
   "outputs": [],
   "source": [
    "sentences = open('data/raw/train.txt', 'r').read().splitlines()\n",
    "labels = open('labels.txt', 'r').read().splitlines()\n",
    "\n",
    "max_length = 20 \n",
    "\n",
    "X = tokenizer.encode_sentences(sentences, max_length = max_length)\n",
    "y = np.array([int(lbl) for lbl in labels])\n",
    "\n",
    "X_train, X_test, y_train, y_test = train_test_split(X, y, test_size=0.33, random_state=42)"
   ]
  },
  {
   "cell_type": "markdown",
   "metadata": {},
   "source": [
    "### Model"
   ]
  },
  {
   "cell_type": "code",
   "execution_count": 5,
   "metadata": {},
   "outputs": [],
   "source": [
    "model = Sequential()\n",
    "model.add(Embedding(tokenizer.vocab_size, 32))\n",
    "model.add(Bidirectional(GRU(units = 32)))\n",
    "model.add(Dense(32, activation = 'tanh'))\n",
    "model.add(Dropout(0.3))\n",
    "model.add(Dense(1, activation = 'sigmoid'))\n",
    "model.compile(optimizer = 'adam', loss = 'binary_crossentropy', metrics = ['accuracy'])"
   ]
  },
  {
   "cell_type": "markdown",
   "metadata": {},
   "source": [
    "### Train"
   ]
  },
  {
   "cell_type": "code",
   "execution_count": 6,
   "metadata": {},
   "outputs": [
    {
     "name": "stdout",
     "output_type": "stream",
     "text": [
      "Epoch 1/12\n",
      "5/5 [==============================] - 1s 114ms/step - loss: 0.6928 - accuracy: 0.5025 - val_loss: 0.6926 - val_accuracy: 0.4925\n",
      "Epoch 2/12\n",
      "5/5 [==============================] - 0s 19ms/step - loss: 0.6873 - accuracy: 0.6352 - val_loss: 0.6877 - val_accuracy: 0.6567\n",
      "Epoch 3/12\n",
      "5/5 [==============================] - 0s 18ms/step - loss: 0.6808 - accuracy: 0.7247 - val_loss: 0.6855 - val_accuracy: 0.7313\n",
      "Epoch 4/12\n",
      "5/5 [==============================] - 0s 18ms/step - loss: 0.6694 - accuracy: 0.8275 - val_loss: 0.6809 - val_accuracy: 0.6418\n",
      "Epoch 5/12\n",
      "5/5 [==============================] - 0s 18ms/step - loss: 0.6505 - accuracy: 0.8756 - val_loss: 0.6715 - val_accuracy: 0.7015\n",
      "Epoch 6/12\n",
      "5/5 [==============================] - 0s 18ms/step - loss: 0.6198 - accuracy: 0.9270 - val_loss: 0.6566 - val_accuracy: 0.7313\n",
      "Epoch 7/12\n",
      "5/5 [==============================] - 0s 18ms/step - loss: 0.5757 - accuracy: 0.9287 - val_loss: 0.6348 - val_accuracy: 0.7313\n",
      "Epoch 8/12\n",
      "5/5 [==============================] - 0s 17ms/step - loss: 0.5056 - accuracy: 0.9386 - val_loss: 0.6013 - val_accuracy: 0.7761\n",
      "Epoch 9/12\n",
      "5/5 [==============================] - 0s 18ms/step - loss: 0.4152 - accuracy: 0.9469 - val_loss: 0.5616 - val_accuracy: 0.7612\n",
      "Epoch 10/12\n",
      "5/5 [==============================] - 0s 18ms/step - loss: 0.3032 - accuracy: 0.9552 - val_loss: 0.5065 - val_accuracy: 0.7761\n",
      "Epoch 11/12\n",
      "5/5 [==============================] - 0s 17ms/step - loss: 0.2011 - accuracy: 0.9718 - val_loss: 0.4730 - val_accuracy: 0.7761\n",
      "Epoch 12/12\n",
      "5/5 [==============================] - 0s 17ms/step - loss: 0.1284 - accuracy: 0.9768 - val_loss: 0.4642 - val_accuracy: 0.8060\n"
     ]
    }
   ],
   "source": [
    "history = model.fit(X_train, y_train, epochs = 12, validation_split = 0.1,  batch_size= 128, shuffle = True)"
   ]
  },
  {
   "cell_type": "markdown",
   "metadata": {},
   "source": [
    "### Test"
   ]
  },
  {
   "cell_type": "code",
   "execution_count": 7,
   "metadata": {},
   "outputs": [],
   "source": [
    "def classify(sentence):\n",
    "  sequence = tokenizer.encode_sentences([sentence], max_length = max_length)[0]\n",
    "  pred = model.predict(sequence)[0][0]\n",
    "  print(pred)"
   ]
  },
  {
   "cell_type": "code",
   "execution_count": 8,
   "metadata": {},
   "outputs": [
    {
     "name": "stdout",
     "output_type": "stream",
     "text": [
      "0.09430933\n",
      "0.85310614\n"
     ]
    }
   ],
   "source": [
    "classify(\"سيئة جدا جدا\")\n",
    "classify(\"رائعة جدا\")"
   ]
  }
 ],
 "metadata": {
  "kernelspec": {
   "display_name": "Python 3",
   "language": "python",
   "name": "python3"
  },
  "language_info": {
   "codemirror_mode": {
    "name": "ipython",
    "version": 3
   },
   "file_extension": ".py",
   "mimetype": "text/x-python",
   "name": "python",
   "nbconvert_exporter": "python",
   "pygments_lexer": "ipython3",
   "version": "3.8.2"
  }
 },
 "nbformat": 4,
 "nbformat_minor": 4
}
