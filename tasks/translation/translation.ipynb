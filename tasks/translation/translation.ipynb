{
 "cells": [
  {
   "cell_type": "code",
   "execution_count": null,
   "metadata": {},
   "outputs": [],
   "source": [
    "# modified version from https://www.tensorflow.org/tutorials/text/nmt_with_attention"
   ]
  },
  {
   "cell_type": "code",
   "execution_count": null,
   "metadata": {},
   "outputs": [],
   "source": [
    "!mkdir data\n",
    "https://raw.githubusercontent.com/ARBML/tkseem/master/tasks/translation/data/ar_data.txt -O data/ar_data.txt\n",
    "https://raw.githubusercontent.com/ARBML/tkseem/master/tasks/translation/data/en_data.txt -O data/en_data.txt "
   ]
  },
  {
   "cell_type": "code",
   "execution_count": null,
   "metadata": {},
   "outputs": [],
   "source": [
    "!pip install tkseem\n",
    "!pip install tnkeeh"
   ]
  },
  {
   "cell_type": "code",
   "execution_count": 1,
   "metadata": {},
   "outputs": [],
   "source": [
    "import re\n",
    "import nltk\n",
    "import time\n",
    "import numpy as np\n",
    "import tkseem as tk\n",
    "import tnkeeh as tn\n",
    "import tensorflow as tf\n",
    "import matplotlib.ticker as ticker\n",
    "import matplotlib.pyplot as plt"
   ]
  },
  {
   "cell_type": "markdown",
   "metadata": {},
   "source": [
    "### Data Preprocessing"
   ]
  },
  {
   "cell_type": "code",
   "execution_count": 2,
   "metadata": {},
   "outputs": [
    {
     "name": "stdout",
     "output_type": "stream",
     "text": [
      "Remove diacritics\n",
      "Remove Tatweel\n",
      "Saving to data/ar_clean_data.txt\n",
      "Remove Tatweel\n",
      "Saving to data/en_clean_data.txt\n",
      "Split data\n",
      "Save to data\n",
      "Read data  ['ar_clean_data.txt', 'ar_data.txt', 'en_clean_data.txt', 'en_data.txt', 'test_inp_data.txt', 'test_tar_data.txt', 'train_inp_data.txt', 'train_tar_data.txt']\n"
     ]
    }
   ],
   "source": [
    "tn.clean_data('data/ar_data.txt','data/ar_clean_data.txt', remove_diacritics=True)\n",
    "tn.clean_data('data/en_data.txt','data/en_clean_data.txt')\n",
    "\n",
    "tn.split_parallel_data('data/ar_clean_data.txt', 'data/en_clean_data.txt', split_ratio=0.95)\n",
    "train_inp_text, train_tar_text, test_inp_text, test_tar_text = tn.read_data(mode = 2)"
   ]
  },
  {
   "cell_type": "markdown",
   "metadata": {},
   "source": [
    "### Tokenization"
   ]
  },
  {
   "cell_type": "code",
   "execution_count": null,
   "metadata": {},
   "outputs": [],
   "source": [
    "ar_tokenizer = tk.SentencePieceTokenizer(special_tokens=['<s>', '</s>'])\n",
    "ar_tokenizer.train('data/train_inp_data.txt')\n",
    "\n",
    "en_tokenizer = tk.SentencePieceTokenizer(special_tokens=['<s>', '</s>'])\n",
    "en_tokenizer.train('data/train_tar_data.txt')\n",
    "\n",
    "train_inp_data = ar_tokenizer.encode_sentences(train_inp_text, boundries = ('<s>', '</s>'))\n",
    "train_tar_data = en_tokenizer.encode_sentences(train_tar_text, boundries = ('<s>', '</s>'))"
   ]
  },
  {
   "cell_type": "markdown",
   "metadata": {},
   "source": [
    "### Create Dataset"
   ]
  },
  {
   "cell_type": "code",
   "execution_count": null,
   "metadata": {},
   "outputs": [],
   "source": [
    "BATCH_SIZE = 64\n",
    "BUFFER_SIZE = len(train_inp_data)\n",
    "\n",
    "dataset = tf.data.Dataset.from_tensor_slices((train_inp_data, train_tar_data)).shuffle(BUFFER_SIZE)\n",
    "dataset = dataset.batch(BATCH_SIZE, drop_remainder=True)"
   ]
  },
  {
   "cell_type": "markdown",
   "metadata": {},
   "source": [
    "### Encoder, Decoder"
   ]
  },
  {
   "cell_type": "code",
   "execution_count": null,
   "metadata": {},
   "outputs": [],
   "source": [
    "class Encoder(tf.keras.Model):\n",
    "    def __init__(self, vocab_size, embedding_dim, enc_units, batch_sz):\n",
    "        super(Encoder, self).__init__()\n",
    "        self.batch_sz = batch_sz\n",
    "        self.enc_units = enc_units\n",
    "        self.embedding = tf.keras.layers.Embedding(vocab_size, embedding_dim)\n",
    "        self.gru = tf.keras.layers.GRU(self.enc_units,\n",
    "                                       return_sequences=True,\n",
    "                                       return_state=True,\n",
    "                                       recurrent_initializer='glorot_uniform')\n",
    "\n",
    "    def call(self, x, hidden):\n",
    "        x = self.embedding(x)\n",
    "        output, state = self.gru(x, initial_state = hidden)\n",
    "        return output, state\n",
    "\n",
    "    def initialize_hidden_state(self):\n",
    "        return tf.zeros((self.batch_sz, self.enc_units))\n",
    "\n",
    "class BahdanauAttention(tf.keras.layers.Layer):\n",
    "    def __init__(self, units):\n",
    "        super(BahdanauAttention, self).__init__()\n",
    "        self.W1 = tf.keras.layers.Dense(units)\n",
    "        self.W2 = tf.keras.layers.Dense(units)\n",
    "        self.V = tf.keras.layers.Dense(1)\n",
    "\n",
    "    def call(self, query, values):\n",
    "        # query hidden state shape == (batch_size, hidden size)\n",
    "        # query_with_time_axis shape == (batch_size, 1, hidden size)\n",
    "        # values shape == (batch_size, max_len, hidden size)\n",
    "        # we are doing this to broadcast addition along the time axis to calculate the score\n",
    "        query_with_time_axis = tf.expand_dims(query, 1)\n",
    "\n",
    "        # score shape == (batch_size, max_length, 1)\n",
    "        # we get 1 at the last axis because we are applying score to self.V\n",
    "        # the shape of the tensor before applying self.V is (batch_size, max_length, units)\n",
    "        score = self.V(tf.nn.tanh(\n",
    "            self.W1(query_with_time_axis) + self.W2(values)))\n",
    "\n",
    "        # attention_weights shape == (batch_size, max_length, 1)\n",
    "        attention_weights = tf.nn.softmax(score, axis=1)\n",
    "\n",
    "        # context_vector shape after sum == (batch_size, hidden_size)\n",
    "        context_vector = attention_weights * values\n",
    "        context_vector = tf.reduce_sum(context_vector, axis=1)\n",
    "\n",
    "        return context_vector, attention_weights\n",
    "\n",
    "class Decoder(tf.keras.Model):\n",
    "    def __init__(self, vocab_size, embedding_dim, dec_units, batch_sz):\n",
    "        super(Decoder, self).__init__()\n",
    "        self.batch_sz = batch_sz\n",
    "        self.dec_units = dec_units\n",
    "        self.embedding = tf.keras.layers.Embedding(vocab_size, embedding_dim)\n",
    "        self.gru = tf.keras.layers.GRU(self.dec_units,\n",
    "                                       return_sequences=True,\n",
    "                                       return_state=True,\n",
    "                                       recurrent_initializer='glorot_uniform')\n",
    "        self.fc = tf.keras.layers.Dense(vocab_size)\n",
    "\n",
    "        # used for attention\n",
    "        self.attention = BahdanauAttention(self.dec_units)\n",
    "\n",
    "    def call(self, x, hidden, enc_output):\n",
    "        # enc_output shape == (batch_size, max_length, hidden_size)\n",
    "        context_vector, attention_weights = self.attention(hidden, enc_output)\n",
    "\n",
    "        # x shape after passing through embedding == (batch_size, 1, embedding_dim)\n",
    "        x = self.embedding(x)\n",
    "\n",
    "        # x shape after concatenation == (batch_size, 1, embedding_dim + hidden_size)\n",
    "        x = tf.concat([tf.expand_dims(context_vector, 1), x], axis=-1)\n",
    "\n",
    "        # passing the concatenated vector to the GRU\n",
    "        output, state = self.gru(x)\n",
    "\n",
    "        # output shape == (batch_size * 1, hidden_size)\n",
    "        output = tf.reshape(output, (-1, output.shape[2]))\n",
    "\n",
    "        # output shape == (batch_size, vocab)\n",
    "        x = self.fc(output)\n",
    "\n",
    "        return x, state, attention_weights\n",
    "\n",
    "\n",
    "\n",
    "def get_loss_object():\n",
    "    return  tf.keras.losses.SparseCategoricalCrossentropy(from_logits=True, reduction='none')\n",
    "\n",
    "def loss_function(real, pred):\n",
    "    mask = tf.math.logical_not(tf.math.equal(real, 1))\n",
    "    loss_ = get_loss_object()(real, pred)\n",
    "\n",
    "    mask = tf.cast(mask, dtype=loss_.dtype)\n",
    "    loss_ *= mask\n",
    "\n",
    "    return tf.reduce_mean(loss_)"
   ]
  },
  {
   "cell_type": "markdown",
   "metadata": {},
   "source": [
    "Initialize models"
   ]
  },
  {
   "cell_type": "code",
   "execution_count": null,
   "metadata": {},
   "outputs": [],
   "source": [
    "units = 1024\n",
    "BATCH_SIZE = 64\n",
    "embedding_dim = 256\n",
    "max_length_inp = train_inp_data.shape[1]\n",
    "max_length_tar = train_tar_data.shape[1]\n",
    "steps_per_epoch = len(train_inp_data)//BATCH_SIZE\n",
    "vocab_inp_size = ar_tokenizer.vocab_size\n",
    "vocab_tar_size = en_tokenizer.vocab_size\n",
    "\n",
    "encoder = Encoder(vocab_inp_size, embedding_dim, units, BATCH_SIZE)\n",
    "decoder = Decoder(vocab_tar_size, embedding_dim, units, BATCH_SIZE)"
   ]
  },
  {
   "cell_type": "markdown",
   "metadata": {},
   "source": [
    "### Training Procedure"
   ]
  },
  {
   "cell_type": "code",
   "execution_count": null,
   "metadata": {},
   "outputs": [],
   "source": [
    "def get_train_step():\n",
    "    @tf.function\n",
    "    def train_step(inp, targ, enc_hidden, encoder, decoder, optimizer, en_tokenizer, BATCH_SIZE = 64, ):\n",
    "        loss = 0\n",
    "\n",
    "        with tf.GradientTape() as tape:\n",
    "            enc_output, enc_hidden = encoder(inp, enc_hidden)\n",
    "\n",
    "            dec_hidden = enc_hidden\n",
    "\n",
    "            dec_input = tf.expand_dims([en_tokenizer.token_to_id('<s>')] * BATCH_SIZE, 1)\n",
    "\n",
    "            # Teacher forcing - feeding the target as the next input\n",
    "            for t in range(1, targ.shape[1]):\n",
    "                # passing enc_output to the decoder\n",
    "                predictions, dec_hidden, _ = decoder(dec_input, dec_hidden, enc_output)\n",
    "\n",
    "                loss += loss_function(targ[:, t], predictions)\n",
    "\n",
    "                # using teacher forcing\n",
    "                dec_input = tf.expand_dims(targ[:, t], 1)\n",
    "\n",
    "        batch_loss = (loss / int(targ.shape[1]))\n",
    "\n",
    "        variables = encoder.trainable_variables + decoder.trainable_variables\n",
    "\n",
    "        gradients = tape.gradient(loss, variables)\n",
    "\n",
    "        optimizer.apply_gradients(zip(gradients, variables))\n",
    "\n",
    "        return batch_loss\n",
    "    return train_step\n",
    "\n",
    "def train(epochs = 10, verbose = 0 ):\n",
    "    optimizer = tf.keras.optimizers.Adam()\n",
    "\n",
    "    for epoch in range(epochs):\n",
    "        start = time.time()\n",
    "\n",
    "        enc_hidden = encoder.initialize_hidden_state()\n",
    "        total_loss = 0\n",
    "\n",
    "        for (batch, (inp, targ)) in enumerate(dataset.take(steps_per_epoch)):\n",
    "            batch_loss = get_train_step()(inp, targ, enc_hidden, encoder, decoder, optimizer, en_tokenizer)\n",
    "            total_loss += batch_loss\n",
    "\n",
    "            if batch % 100 == 0 and verbose:\n",
    "                print('Epoch {} Batch {} Loss {:.4f}'.format(epoch + 1,\n",
    "                                                           batch,\n",
    "                                                           batch_loss.numpy()))\n",
    "\n",
    "        if verbose:\n",
    "            print('Epoch {} Loss {:.4f}'.format(epoch + 1,\n",
    "                                              total_loss / steps_per_epoch))\n",
    "            print('Time taken for 1 epoch {} sec\\n'.format(time.time() - start))"
   ]
  },
  {
   "cell_type": "markdown",
   "metadata": {},
   "source": [
    "Start training"
   ]
  },
  {
   "cell_type": "code",
   "execution_count": null,
   "metadata": {},
   "outputs": [
    {
     "name": "stdout",
     "output_type": "stream",
     "text": [
      "Training SentencePiece ...\n",
      "Training SentencePiece ...\n",
      "Epoch 1 Batch 0 Loss 8.9047\n",
      "Epoch 1 Batch 100 Loss 1.5026\n",
      "Epoch 1 Batch 200 Loss 1.4206\n",
      "Epoch 1 Batch 300 Loss 1.3276\n",
      "Epoch 1 Batch 400 Loss 1.2741\n",
      "Epoch 1 Batch 500 Loss 1.2128\n",
      "Epoch 1 Batch 600 Loss 1.2709\n",
      "Epoch 1 Batch 700 Loss 1.1027\n",
      "Epoch 1 Batch 800 Loss 1.0506\n",
      "Epoch 1 Batch 900 Loss 1.0894\n",
      "Epoch 1 Batch 1000 Loss 1.1731\n",
      "Epoch 1 Batch 1100 Loss 1.0621\n",
      "Epoch 1 Batch 1200 Loss 0.9565\n",
      "Epoch 1 Batch 1300 Loss 0.9814\n",
      "Epoch 1 Batch 1400 Loss 1.1400\n",
      "Epoch 1 Loss 1.1646\n",
      "Time taken for 1 epoch 23225.82354784012 sec\n",
      "\n",
      "Epoch 2 Batch 0 Loss 1.0153\n",
      "Epoch 2 Batch 100 Loss 0.9624\n",
      "Epoch 2 Batch 200 Loss 0.8185\n"
     ]
    }
   ],
   "source": [
    "train(epochs = 10, verbose = 1)"
   ]
  },
  {
   "cell_type": "markdown",
   "metadata": {},
   "source": [
    "### Test"
   ]
  },
  {
   "cell_type": "code",
   "execution_count": 4,
   "metadata": {},
   "outputs": [],
   "source": [
    "def evaluate(sentence):\n",
    "    attention_plot = np.zeros((max_length_tar, max_length_inp))\n",
    "\n",
    "    inputs = ar_tokenizer.encode_sentences([sentence], boundries = ('<s>', '</s>'), \n",
    "                                  out_length = max_length_inp)\n",
    "    inputs = tf.convert_to_tensor(inputs)\n",
    "\n",
    "    result = ''\n",
    "\n",
    "    hidden = [tf.zeros((1, units))]\n",
    "    enc_out, enc_hidden = encoder(inputs, hidden)\n",
    "\n",
    "    dec_hidden = enc_hidden\n",
    "    dec_input = tf.expand_dims([en_tokenizer.token_to_id('<s>')], 0)\n",
    "\n",
    "    for t in range(max_length_tar):\n",
    "        predictions, dec_hidden, attention_weights = decoder(dec_input,\n",
    "                                                             dec_hidden,\n",
    "                                                             enc_out)\n",
    "\n",
    "        # storing the attention weights to plot later on\n",
    "        attention_weights = tf.reshape(attention_weights, (-1, ))\n",
    "        attention_plot[t] = attention_weights.numpy()\n",
    "\n",
    "        predicted_id = tf.argmax(predictions[0]).numpy()\n",
    "\n",
    "        result += en_tokenizer.id_to_token(predicted_id) + ' '\n",
    "\n",
    "        if en_tokenizer.id_to_token(predicted_id) == '</s>':\n",
    "            return result, sentence\n",
    "\n",
    "        # the predicted ID is fed back into the model\n",
    "        dec_input = tf.expand_dims([predicted_id], 0)\n",
    "\n",
    "    return result, sentence\n",
    "\n",
    "def translate(sentences, translations, verbose = 1):\n",
    "    inputs = sentences\n",
    "    outputs = []\n",
    "    \n",
    "    for i, sentence in enumerate(sentences):\n",
    "        result, sentence = evaluate(sentence)\n",
    "        result = ar_tokenizer.detokenize(result)\n",
    "        result = result.replace('<s>', '').replace('</s>', '')\n",
    "        result = re.sub(' +', ' ', result)\n",
    "        outputs.append(result)\n",
    "        if verbose:\n",
    "            print('inpt: %s' % (sentence))\n",
    "            print('pred: {}'.format(result))\n",
    "            print('true: {}'.format(translations[i]))"
   ]
  },
  {
   "cell_type": "code",
   "execution_count": null,
   "metadata": {},
   "outputs": [],
   "source": [
    "translate(test_inp_text[:50], test_tar_text[:50], verbose = 1)"
   ]
  }
 ],
 "metadata": {
  "kernelspec": {
   "display_name": "Python 3",
   "language": "python",
   "name": "python3"
  },
  "language_info": {
   "codemirror_mode": {
    "name": "ipython",
    "version": 3
   },
   "file_extension": ".py",
   "mimetype": "text/x-python",
   "name": "python",
   "nbconvert_exporter": "python",
   "pygments_lexer": "ipython3",
   "version": "3.8.2"
  }
 },
 "nbformat": 4,
 "nbformat_minor": 4
}
