{
 "cells": [
  {
   "cell_type": "markdown",
   "metadata": {},
   "source": [
    "## Sentiment Analysis"
   ]
  },
  {
   "cell_type": "code",
   "execution_count": 1,
   "metadata": {},
   "outputs": [],
   "source": [
    "!pip install tkseem\n",
    "!pip install tnkeeh"
   ]
  },
  {
   "cell_type": "code",
   "execution_count": 2,
   "metadata": {
    "collapsed": true
   },
   "outputs": [
    {
     "name": "stdout",
     "output_type": "stream",
     "text": [
      "--2020-08-01 18:09:58--  https://raw.githubusercontent.com/ARBML/tkseem/master/tasks/sentiment_analysis/sentiment/data.txt\n",
      "Resolving raw.githubusercontent.com (raw.githubusercontent.com)... 151.101.36.133\n",
      "Connecting to raw.githubusercontent.com (raw.githubusercontent.com)|151.101.36.133|:443... connected.\n",
      "HTTP request sent, awaiting response... 200 OK\n",
      "Length: 122098 (119K) [text/plain]\n",
      "Saving to: ‘data.txt.1’\n",
      "\n",
      "data.txt.1          100%[===================>] 119.24K   380KB/s    in 0.3s    \n",
      "\n",
      "2020-08-01 18:10:00 (380 KB/s) - ‘data.txt.1’ saved [122098/122098]\n",
      "\n",
      "--2020-08-01 18:10:00--  https://raw.githubusercontent.com/ARBML/tkseem/master/tasks/sentiment_analysis/sentiment/labels.txt\n",
      "Resolving raw.githubusercontent.com (raw.githubusercontent.com)... 151.101.36.133\n",
      "Connecting to raw.githubusercontent.com (raw.githubusercontent.com)|151.101.36.133|:443... connected.\n",
      "HTTP request sent, awaiting response... 200 OK\n",
      "Length: 3999 (3.9K) [text/plain]\n",
      "Saving to: ‘labels.txt.1’\n",
      "\n",
      "labels.txt.1        100%[===================>]   3.91K  --.-KB/s    in 0.009s  \n",
      "\n",
      "2020-08-01 18:10:01 (417 KB/s) - ‘labels.txt.1’ saved [3999/3999]\n",
      "\n"
     ]
    }
   ],
   "source": [
    "!wget https://raw.githubusercontent.com/ARBML/tkseem/master/tasks/sentiment_analysis/sentiment/data.txt\n",
    "!wget https://raw.githubusercontent.com/ARBML/tkseem/master/tasks/sentiment_analysis/sentiment/labels.txt"
   ]
  },
  {
   "cell_type": "markdown",
   "metadata": {},
   "source": [
    "### Imports"
   ]
  },
  {
   "cell_type": "code",
   "execution_count": 1,
   "metadata": {},
   "outputs": [],
   "source": [
    "import numpy as np\n",
    "import tkseem as tk\n",
    "import tnkeeh as tn\n",
    "from tensorflow.keras.models import Sequential\n",
    "from sklearn.model_selection import train_test_split\n",
    "from tensorflow.keras.layers import GRU, Embedding, Dense, Input, Dropout, Bidirectional"
   ]
  },
  {
   "cell_type": "markdown",
   "metadata": {},
   "source": [
    "### Process data"
   ]
  },
  {
   "cell_type": "code",
   "execution_count": 2,
   "metadata": {},
   "outputs": [
    {
     "name": "stdout",
     "output_type": "stream",
     "text": [
      "Remove diacritics\n",
      "Remove Tatweel\n",
      "Saving to sentiment/cleaned_data.txt\n",
      "Split data\n",
      "Save to data\n",
      "Read data  ['test_data.txt', 'test_lbls.txt', 'train_data.txt', 'train_lbls.txt']\n"
     ]
    }
   ],
   "source": [
    "tn.clean_data(file_path = 'sentiment/data.txt', save_path = 'sentiment/cleaned_data.txt', remove_diacritics=True, \n",
    "      execluded_chars=['!', '.', '?'])\n",
    "tn.split_classification_data('sentiment/cleaned_data.txt', 'sentiment/labels.txt')\n",
    "train_data, test_data, train_lbls, test_lbls = tn.read_data(mode = 1)"
   ]
  },
  {
   "cell_type": "code",
   "execution_count": 3,
   "metadata": {},
   "outputs": [],
   "source": [
    "max_length = max(len(data) for data in train_data)"
   ]
  },
  {
   "cell_type": "markdown",
   "metadata": {},
   "source": [
    "### Tokenize"
   ]
  },
  {
   "cell_type": "code",
   "execution_count": 4,
   "metadata": {
    "scrolled": true
   },
   "outputs": [
    {
     "name": "stdout",
     "output_type": "stream",
     "text": [
      "Training SentencePiece ...\n"
     ]
    }
   ],
   "source": [
    "tokenizer = tk.SentencePieceTokenizer()\n",
    "tokenizer.train('data/train_data.txt')"
   ]
  },
  {
   "cell_type": "markdown",
   "metadata": {},
   "source": [
    "### Tokenize data"
   ]
  },
  {
   "cell_type": "code",
   "execution_count": 5,
   "metadata": {},
   "outputs": [],
   "source": [
    "def preprocess(tokenizer, data, labels):\n",
    "    X = tokenizer.encode_sentences(data)\n",
    "    y = np.array([int(lbl) for lbl in labels])\n",
    "    return X, y"
   ]
  },
  {
   "cell_type": "code",
   "execution_count": 6,
   "metadata": {},
   "outputs": [],
   "source": [
    "# process training data\n",
    "X_train, y_train = preprocess(tokenizer, train_data, train_lbls)\n",
    "\n",
    "# process test data\n",
    "X_test, y_test = preprocess(tokenizer, test_data, test_lbls)"
   ]
  },
  {
   "cell_type": "markdown",
   "metadata": {},
   "source": [
    "### Model"
   ]
  },
  {
   "cell_type": "code",
   "execution_count": 7,
   "metadata": {},
   "outputs": [],
   "source": [
    "model = Sequential()\n",
    "model.add(Embedding(tokenizer.vocab_size, 32))\n",
    "model.add(Bidirectional(GRU(units = 32)))\n",
    "model.add(Dense(32, activation = 'tanh'))\n",
    "model.add(Dropout(0.3))\n",
    "model.add(Dense(1, activation = 'sigmoid'))\n",
    "model.compile(optimizer = 'adam', loss = 'binary_crossentropy', metrics = ['accuracy'])"
   ]
  },
  {
   "cell_type": "markdown",
   "metadata": {},
   "source": [
    "### Train"
   ]
  },
  {
   "cell_type": "code",
   "execution_count": 8,
   "metadata": {},
   "outputs": [
    {
     "name": "stdout",
     "output_type": "stream",
     "text": [
      "Epoch 1/12\n",
      "6/6 [==============================] - 1s 143ms/step - loss: 0.6928 - accuracy: 0.5111 - val_loss: 0.7008 - val_accuracy: 0.3625\n",
      "Epoch 2/12\n",
      "6/6 [==============================] - 0s 60ms/step - loss: 0.6867 - accuracy: 0.5611 - val_loss: 0.6947 - val_accuracy: 0.4250\n",
      "Epoch 3/12\n",
      "6/6 [==============================] - 0s 62ms/step - loss: 0.6788 - accuracy: 0.7153 - val_loss: 0.6863 - val_accuracy: 0.6375\n",
      "Epoch 4/12\n",
      "6/6 [==============================] - 0s 64ms/step - loss: 0.6631 - accuracy: 0.8361 - val_loss: 0.6758 - val_accuracy: 0.6625\n",
      "Epoch 5/12\n",
      "6/6 [==============================] - 0s 60ms/step - loss: 0.6355 - accuracy: 0.8944 - val_loss: 0.6683 - val_accuracy: 0.7000\n",
      "Epoch 6/12\n",
      "6/6 [==============================] - 0s 61ms/step - loss: 0.5879 - accuracy: 0.9153 - val_loss: 0.6526 - val_accuracy: 0.7000\n",
      "Epoch 7/12\n",
      "6/6 [==============================] - 0s 59ms/step - loss: 0.5109 - accuracy: 0.9250 - val_loss: 0.6102 - val_accuracy: 0.7250\n",
      "Epoch 8/12\n",
      "6/6 [==============================] - 0s 59ms/step - loss: 0.3984 - accuracy: 0.9361 - val_loss: 0.5761 - val_accuracy: 0.7500\n",
      "Epoch 9/12\n",
      "6/6 [==============================] - 0s 59ms/step - loss: 0.2610 - accuracy: 0.9597 - val_loss: 0.5285 - val_accuracy: 0.7500\n",
      "Epoch 10/12\n",
      "6/6 [==============================] - 0s 60ms/step - loss: 0.1533 - accuracy: 0.9653 - val_loss: 0.4715 - val_accuracy: 0.7875\n",
      "Epoch 11/12\n",
      "6/6 [==============================] - 0s 62ms/step - loss: 0.1143 - accuracy: 0.9639 - val_loss: 0.6957 - val_accuracy: 0.6875\n",
      "Epoch 12/12\n",
      "6/6 [==============================] - 0s 60ms/step - loss: 0.0767 - accuracy: 0.9819 - val_loss: 0.5714 - val_accuracy: 0.7500\n"
     ]
    }
   ],
   "source": [
    "history = model.fit(X_train, y_train, epochs = 12, validation_split = 0.1,  batch_size= 128, shuffle = True)"
   ]
  },
  {
   "cell_type": "markdown",
   "metadata": {},
   "source": [
    "### Test"
   ]
  },
  {
   "cell_type": "code",
   "execution_count": 9,
   "metadata": {},
   "outputs": [],
   "source": [
    "def classify(sentence):\n",
    "  sequence = tokenizer.encode_sentences([sentence], out_length = max_length)[0]\n",
    "  pred = model.predict(sequence)[0][0]\n",
    "  print(pred)"
   ]
  },
  {
   "cell_type": "code",
   "execution_count": 10,
   "metadata": {},
   "outputs": [
    {
     "name": "stdout",
     "output_type": "stream",
     "text": [
      "0.08256233\n",
      "0.88681066\n"
     ]
    }
   ],
   "source": [
    "classify(\"سيئة جدا جدا\")\n",
    "classify(\"رائعة جدا\")"
   ]
  }
 ],
 "metadata": {
  "kernelspec": {
   "display_name": "Python 3",
   "language": "python",
   "name": "python3"
  },
  "language_info": {
   "codemirror_mode": {
    "name": "ipython",
    "version": 3
   },
   "file_extension": ".py",
   "mimetype": "text/x-python",
   "name": "python",
   "nbconvert_exporter": "python",
   "pygments_lexer": "ipython3",
   "version": "3.8.2"
  },
  "toc": {
   "nav_menu": {},
   "number_sections": true,
   "sideBar": true,
   "skip_h1_title": false,
   "title_cell": "Table of Contents",
   "title_sidebar": "Contents",
   "toc_cell": false,
   "toc_position": {},
   "toc_section_display": true,
   "toc_window_display": false
  }
 },
 "nbformat": 4,
 "nbformat_minor": 4
}
